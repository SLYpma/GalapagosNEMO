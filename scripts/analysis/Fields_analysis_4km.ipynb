{
 "cells": [
  {
   "cell_type": "code",
   "execution_count": null,
   "metadata": {},
   "outputs": [],
   "source": [
    "%pylab inline\n",
    "from parcels import FieldSet, Field, ParticleSet, JITParticle, AdvectionRK4, ErrorCode, Variable\n",
    "import cartopy\n",
    "from glob import glob\n",
    "import matplotlib.pyplot as plt\n",
    "from matplotlib import colors\n",
    "import numpy as np\n",
    "import xarray as xr\n",
    "from netCDF4 import Dataset\n",
    "import math as math\n",
    "from ParticlePlotFunctions import *\n",
    "%matplotlib inline"
   ]
  },
  {
   "cell_type": "code",
   "execution_count": null,
   "metadata": {},
   "outputs": [],
   "source": [
    "# plot SST + quiver of specific date\n",
    "\n",
    "Ufiles = '/home/sypmauu/GalapagosNEMO/data/RGEMS3_2008_Surf.nc'\n",
    "Xfiles = '/home/sypmauu/GalapagosNEMO/data/RGEMS3_Surf_grid.nc'\n",
    "\n",
    "date = 0\n",
    "\n",
    "dfile = Dataset(Ufiles)\n",
    "Uvel = dfile.variables['UVEL'][date,:,:]\n",
    "Vvel = dfile.variables['VVEL'][date,:,:]\n",
    "Tvel = dfile.variables['THETA'][date,:,:]\n",
    "dfile = Dataset(Xfiles)\n",
    "lon = dfile.variables['XG'][:]\n",
    "lat = dfile.variables['YG'][:]\n",
    "\n",
    "Tvel[Tvel==0]=nan\n",
    "Uvel[Uvel==0]=nan\n",
    "Vvel[Vvel==0]=nan\n",
    "map_extent = [-105,-75,-10,10]\n",
    "PlotSSTquiver(lon,lat,Tvel,Uvel,Vvel,figsize=(9,6),map_extent=map_extent,dq=20)"
   ]
  },
  {
   "cell_type": "code",
   "execution_count": null,
   "metadata": {},
   "outputs": [],
   "source": [
    "# compute year mean\n",
    "\n",
    "Ufiles = '/home/sypmauu/GalapagosNEMO/data/RGEMS3_2008_Surf.nc'\n",
    "Xfiles = '/home/sypmauu/GalapagosNEMO/data/RGEMS3_Surf_grid.nc'\n",
    "dfile = Dataset(Xfiles)\n",
    "lon = dfile.variables['XG'][:]\n",
    "lat = dfile.variables['YG'][:]\n",
    "\n",
    "ddates = range(0,365)\n",
    "\n",
    "Umean = np.zeros([len(lat),len(lon)], dtype=float)\n",
    "Vmean = np.zeros([len(lat),len(lon)], dtype=float)\n",
    "Tmean = np.zeros([len(lat),len(lon)], dtype=float)\n",
    "\n",
    "teller = 0\n",
    "dfile = Dataset(Ufiles)\n",
    "for t in ddates:\n",
    "    teller += 1\n",
    "    print(teller)\n",
    "    Umean += dfile.variables['UVEL'][t,:,:]\n",
    "    Vmean += dfile.variables['VVEL'][t,:,:]\n",
    "    Tmean += dfile.variables['THETA'][t,:,:]\n",
    "\n",
    "Umean = Umean/teller\n",
    "Vmean = Vmean/teller\n",
    "Tmean = Tmean/teller"
   ]
  },
  {
   "cell_type": "code",
   "execution_count": null,
   "metadata": {},
   "outputs": [],
   "source": [
    "# plot SST quiver for mean fields\n",
    "\n",
    "Umean[Umean==0]=nan\n",
    "Vmean[Vmean==0]=nan\n",
    "Tmean[Tmean==0]=nan\n",
    "\n",
    "map_extent = [-105,-75,-10,10]\n",
    "PlotSSTquiver(lon,lat,Tmean,Umean,Vmean,figsize=(9,6),map_extent=map_extent,dq=20)\n",
    "plt.savefig('../../results/figures/MITgcmfields_mean2008.pdf')"
   ]
  }
 ],
 "metadata": {
  "kernelspec": {
   "display_name": "Python 3",
   "language": "python",
   "name": "python3"
  },
  "language_info": {
   "codemirror_mode": {
    "name": "ipython",
    "version": 3
   },
   "file_extension": ".py",
   "mimetype": "text/x-python",
   "name": "python",
   "nbconvert_exporter": "python",
   "pygments_lexer": "ipython3",
   "version": "3.7.6"
  }
 },
 "nbformat": 4,
 "nbformat_minor": 4
}
