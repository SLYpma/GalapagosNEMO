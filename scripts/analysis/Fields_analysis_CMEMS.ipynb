{
 "cells": [
  {
   "cell_type": "code",
   "execution_count": null,
   "metadata": {},
   "outputs": [],
   "source": [
    "%pylab inline\n",
    "from parcels import FieldSet, Field, ParticleSet, JITParticle, AdvectionRK4, ErrorCode, Variable\n",
    "import cartopy\n",
    "from glob import glob\n",
    "import matplotlib.pyplot as plt\n",
    "from matplotlib import colors\n",
    "import numpy as np\n",
    "import xarray as xr\n",
    "from netCDF4 import Dataset\n",
    "import math as math\n",
    "from ParticlePlotFunctions import *\n",
    "%matplotlib inline"
   ]
  },
  {
   "cell_type": "code",
   "execution_count": null,
   "metadata": {},
   "outputs": [],
   "source": [
    "# plot SST + quiver of specific date\n",
    "\n",
    "ddir = '/projects/0/topios/hydrodynamic_data/CMEMS/GLOBAL_REANALYSIS_PHY_001_030/'\n",
    "datafiles = sorted(glob(ddir+'mercatorglorys12v1_gl12_mean_2008*.nc'))\n",
    "\n",
    "t=0\n",
    "latdim = np.arange(800,1100)\n",
    "londim = np.arange(700,1500)\n",
    "dfile = Dataset(datafiles[t])\n",
    "lon = dfile.variables['longitude'][londim]\n",
    "lat = dfile.variables['latitude'][latdim]\n",
    "Uvel = dfile.variables['uo'][t,0,latdim,londim]\n",
    "Vvel = dfile.variables['vo'][t,0,latdim,londim]\n",
    "Tvel = dfile.variables['thetao'][t,0,latdim,londim]\n",
    "\n",
    "PlotSSTquiver(lon,lat,Tvel,Uvel,Vvel)"
   ]
  },
  {
   "cell_type": "code",
   "execution_count": null,
   "metadata": {},
   "outputs": [],
   "source": [
    "# compute year mean\n",
    "\n",
    "ddir = '/projects/0/topios/hydrodynamic_data/CMEMS/GLOBAL_REANALYSIS_PHY_001_030/'\n",
    "datafiles = sorted(glob(ddir+'mercatorglorys12v1_gl12_mean_2008*.nc'))\n",
    "\n",
    "latdim = np.arange(800,1100)\n",
    "londim = np.arange(700,1500)\n",
    "dfile = Dataset(datafiles[0])\n",
    "lon = dfile.variables['longitude'][londim]\n",
    "lat = dfile.variables['latitude'][latdim]\n",
    "\n",
    "ddates = range(0,365)\n",
    "\n",
    "Umean = np.zeros([len(lat),len(lon)], dtype=float)\n",
    "Vmean = np.zeros([len(lat),len(lon)], dtype=float)\n",
    "Tmean = np.zeros([len(lat),len(lon)], dtype=float)\n",
    "\n",
    "teller = 0\n",
    "for t in ddates:\n",
    "    teller += 1\n",
    "    print(teller)\n",
    "    dfile = Dataset(datafiles[t])\n",
    "    Umean += dfile.variables['uo'][0,0,latdim,londim]\n",
    "    Vmean += dfile.variables['vo'][0,0,latdim,londim]\n",
    "    Tmean += dfile.variables['thetao'][0,0,latdim,londim]\n",
    "\n",
    "Umean = Umean/teller\n",
    "Vmean = Vmean/teller\n",
    "Tmean = Tmean/teller"
   ]
  },
  {
   "cell_type": "code",
   "execution_count": null,
   "metadata": {},
   "outputs": [],
   "source": [
    "map_extent = [-105,-75,-10,10]\n",
    "Umean[Umean<=-100]=nan\n",
    "Vmean[Vmean<=-100]=nan\n",
    "Tmean[Tmean<=-100]=nan\n",
    "PlotSSTquiver(lon,lat,Tmean,Umean,Vmean,figsize=(9,6),map_extent=map_extent)\n",
    "plt.savefig('../../results/figures/CMEMSfields_mean2008.pdf')"
   ]
  },
  {
   "cell_type": "code",
   "execution_count": null,
   "metadata": {},
   "outputs": [],
   "source": [
    "figsize=(9,6)\n",
    "Tmin=-0.5\n",
    "Tmax=0.5\n",
    "fig, ax = plt.subplots(figsize=figsize)\n",
    "\n",
    "levels = np.linspace(Tmin, Tmax, 41)\n",
    "fig = ax.contourf(lon,lat,Vmean,       \n",
    "                levels = levels,    \n",
    "                cmap='Spectral_r',       \n",
    "                extend='both',      \n",
    "                origin='lower')     \n",
    "ax.set_title('sea surface temperature')          \n",
    "ax.set_xlabel('longitude')                 \n",
    "ax.set_ylabel('latitude') \n",
    "#ax.set_xlim(map_extent[0:2])\n",
    "#ax.set_ylim(map_extent[2:4])\n",
    "ax.set_facecolor('gray')\n",
    "cbar = plt.colorbar(fig, ax=ax)\n",
    "cbar.ax.set_ylabel('SST (\\xb0C)')"
   ]
  }
 ],
 "metadata": {
  "kernelspec": {
   "display_name": "Python 3",
   "language": "python",
   "name": "python3"
  },
  "language_info": {
   "codemirror_mode": {
    "name": "ipython",
    "version": 3
   },
   "file_extension": ".py",
   "mimetype": "text/x-python",
   "name": "python",
   "nbconvert_exporter": "python",
   "pygments_lexer": "ipython3",
   "version": "3.7.6"
  }
 },
 "nbformat": 4,
 "nbformat_minor": 4
}
