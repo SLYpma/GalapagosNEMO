{
 "cells": [
  {
   "cell_type": "code",
   "execution_count": null,
   "metadata": {},
   "outputs": [],
   "source": [
    "%pylab inline\n",
    "from parcels import FieldSet, Field, ParticleSet, JITParticle, AdvectionRK4, ErrorCode, Variable\n",
    "#import cartopy\n",
    "import matplotlib.pyplot as plt\n",
    "from matplotlib import colors\n",
    "import numpy as np\n",
    "import xarray as xr\n",
    "from ParticlePlotFunctions import *\n",
    "%matplotlib inline"
   ]
  },
  {
   "cell_type": "code",
   "execution_count": null,
   "metadata": {},
   "outputs": [],
   "source": [
    "#load data\n",
    "namefile = '../../results/data_output/galapagosparticles_testrun.nc'\n",
    "Traj = ReadTrajectories(namefile)"
   ]
  },
  {
   "cell_type": "markdown",
   "metadata": {},
   "source": [
    "# old"
   ]
  },
  {
   "cell_type": "code",
   "execution_count": null,
   "metadata": {},
   "outputs": [],
   "source": [
    "find which particles arrived at the Galapagos islands\n",
    "Traj['traveltime'] = [] #age at arrival\n",
    "Traj['visittime'] = []  #date of arrival\n",
    "Traj['pvisited'] = []   #index particle\n",
    "Traj['tvisited'] = []   #index time\n",
    "for p in range(Traj['visitedgalapagos'].shape[0]):               # loop through particles\n",
    "    if np.any(Traj['visitedgalapagos'][p, :] == 1):              # check whether visited Galapagos\n",
    "        I = np.where(Traj['visitedgalapagos'][p, :] == 1)[0][0]  # find first index when\n",
    "        Traj['traveltime'].append(Traj['age'][p, I]/86400.) \n",
    "        Traj['visittime'].append(Traj['time'][p,I])\n",
    "        Traj['pvisited'].append(p)       \n",
    "        Traj['tvisited'].append(I)\n",
    "                      "
   ]
  },
  {
   "cell_type": "code",
   "execution_count": null,
   "metadata": {
    "scrolled": true
   },
   "outputs": [],
   "source": [
    "#individual trajectories that reach Galapagos extent\n",
    "plat = Traj['lat'][Traj['pvisited'],:]\n",
    "plon = Traj['lon'][Traj['pvisited'],:]\n",
    "map_extent = [-180,-70,-30,30]\n",
    "PlotTrajectories(plon,plat,map_extent)\n",
    "plt.savefig('../results/figures/TrajAmerica')"
   ]
  },
  {
   "cell_type": "code",
   "execution_count": null,
   "metadata": {},
   "outputs": [],
   "source": [
    "#2D histogram from start to arrival\n",
    "\n",
    "projection = cartopy.crs.PlateCarree(central_longitude=0)\n",
    "fig, ax = plt.subplots(subplot_kw={'projection': projection}, figsize=(7,7))\n",
    "    \n",
    "grd = ax.gridlines(draw_labels=True,\n",
    "                   color='gray', \n",
    "                   alpha=0.5, \n",
    "                   linestyle='--')\n",
    "grd.xlabels_top = False\n",
    "grd.ylabels_right = False\n",
    "grd.xlabel_style = {'size': 15, 'color': 'black'}  \n",
    "grd.ylabel_style = {'size': 15, 'color': 'black'}\n",
    "ax.coastlines()\n",
    "ax.add_feature(cartopy.feature.LAND, facecolor=(160/255, 160/255, 160/255))\n",
    "ax.set_extent([-130,-60,-25,30]) \n",
    "\n",
    "bins = [np.arange(-130,-60, 1), np.arange(-25, 30, 1)]\n",
    "\n",
    "temp = Traj['lon'][Traj['pvisited'],:]\n",
    "plon = np.copy(temp)\n",
    "temp = Traj['lat'][Traj['pvisited'],:]\n",
    "plat = np.copy(temp)\n",
    "\n",
    "for i, t in enumerate(Traj['tvisited']):\n",
    "    plon[i,t:] = nan\n",
    "    plat[i,t:] = nan\n",
    "\n",
    "H, xe, ye = np.histogram2d(plon[~np.isnan(plon)], plat[~np.isnan(plat)], bins=bins)\n",
    "H[0,: ] = H[-1, :]\n",
    "xb = (xe[1:] + xe[:-1])/2\n",
    "yb = (ye[1:] + ye[:-1])/2\n",
    "levels = [10**x for x in range(0, 9)]\n",
    "\n",
    "co = ax.contourf(xb, yb, H.T, levels=levels, norm=colors.LogNorm())\n"
   ]
  },
  {
   "cell_type": "markdown",
   "metadata": {},
   "source": [
    "# Practice plotting\n",
    "## Subplots\n"
   ]
  },
  {
   "cell_type": "code",
   "execution_count": null,
   "metadata": {},
   "outputs": [],
   "source": [
    "%matplotlib inline\n",
    "\n",
    "T = D['bwd_v2']\n",
    "plat = T['lat']\n",
    "plon = T['lon']\n",
    "ptime = T['time']\n",
    "\n",
    "projection = cartopy.crs.PlateCarree(central_longitude=0)\n",
    "\n",
    "fig, ax = plt.subplots(1, 2, subplot_kw={'projection': projection}, figsize=(15,15))\n",
    "\n",
    "for i in range (len(ax)):\n",
    "    grd = ax[i].gridlines(draw_labels=True,\n",
    "                          color='gray', \n",
    "                          alpha=0.5, \n",
    "                          linestyle='--')\n",
    "    grd.xlabels_top = False\n",
    "    grd.ylabels_right = False\n",
    "    if i==1:\n",
    "        grd.ylabels_left = False\n",
    "    grd.xlabel_style = {'size': 15, 'color': 'black'}  \n",
    "    grd.ylabel_style = {'size': 15, 'color': 'black'}\n",
    "    ax[i].coastlines()\n",
    "    ax[i].add_feature(cartopy.feature.LAND, facecolor=(160/255, 160/255, 160/255))\n",
    "    ax[i].set_extent([-110, -70, -20, 30])    \n",
    "    \n",
    "particles = np.arange(1,300)\n",
    "for particle in particles:\n",
    "    ax[0].plot(plon[particle,:], plat[particle,:], \n",
    "               linewidth=1,\n",
    "               color='r')\n",
    "\n",
    "particles = np.arange(40000,40200)\n",
    "for particle in particles:\n",
    "    ax[1].plot(plon[particle,:],plat[particle,:])    \n",
    "    \n",
    "#plt.show()"
   ]
  }
 ],
 "metadata": {
  "kernelspec": {
   "display_name": "Python 3",
   "language": "python",
   "name": "python3"
  },
  "language_info": {
   "codemirror_mode": {
    "name": "ipython",
    "version": 3
   },
   "file_extension": ".py",
   "mimetype": "text/x-python",
   "name": "python",
   "nbconvert_exporter": "python",
   "pygments_lexer": "ipython3",
   "version": "3.7.6"
  }
 },
 "nbformat": 4,
 "nbformat_minor": 4
}
